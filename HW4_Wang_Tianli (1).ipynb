{
 "cells": [
  {
   "cell_type": "code",
   "execution_count": 14,
   "id": "65780b33",
   "metadata": {},
   "outputs": [],
   "source": [
    "from pymagnitude import *\n",
    "file_path=(r\"C:\\Users\\wangt\\Desktop\\GoogleNews-vectors-negative300.magnitude\")\n",
    "vectors=Magnitude(file_path)"
   ]
  },
  {
   "cell_type": "code",
   "execution_count": 15,
   "id": "99ccd029",
   "metadata": {},
   "outputs": [
    {
     "data": {
      "text/plain": [
       "300"
      ]
     },
     "execution_count": 15,
     "metadata": {},
     "output_type": "execute_result"
    }
   ],
   "source": [
    "vectors.dim"
   ]
  },
  {
   "cell_type": "code",
   "execution_count": 18,
   "id": "ed8b35c4",
   "metadata": {},
   "outputs": [
    {
     "data": {
      "text/plain": [
       "[('picnics', 0.7400875),\n",
       " ('picnic_lunch', 0.721374),\n",
       " ('Picnic', 0.700534),\n",
       " ('potluck_picnic', 0.6683274),\n",
       " ('picnic_supper', 0.65189123),\n",
       " ('picnicking', 0.63550216)]"
      ]
     },
     "execution_count": 18,
     "metadata": {},
     "output_type": "execute_result"
    }
   ],
   "source": [
    "vectors.most_similar(\"picnic\", topn = 6)#the top 5th similar words to picnic are picnics,picnic_lunch,Picnic,potluck_picnic,picnic_supper by key"
   ]
  },
  {
   "cell_type": "code",
   "execution_count": 19,
   "id": "bf5ff4fc",
   "metadata": {},
   "outputs": [
    {
     "data": {
      "text/plain": [
       "[('picnic', 0.9999998),\n",
       " ('picnics', 0.7400875),\n",
       " ('picnic_lunch', 0.721374),\n",
       " ('Picnic', 0.700534),\n",
       " ('potluck_picnic', 0.6683274),\n",
       " ('picnic_supper', 0.65189123)]"
      ]
     },
     "execution_count": 19,
     "metadata": {},
     "output_type": "execute_result"
    }
   ],
   "source": [
    "vectors.most_similar(vectors.query(\"picnic\"), topn = 6) #the top 5th similar words to picnic are picnics,picnic_lunch,Picnic,potluck_picnic,picnic_supper by vectors"
   ]
  },
  {
   "cell_type": "code",
   "execution_count": 20,
   "id": "9ec9dbdc",
   "metadata": {},
   "outputs": [
    {
     "data": {
      "text/plain": [
       "'tissue'"
      ]
     },
     "execution_count": 20,
     "metadata": {},
     "output_type": "execute_result"
    }
   ],
   "source": [
    "vectors.doesnt_match(['tissue', 'papyrus','manila', 'newsprint', 'parchment', 'gazette'])# the word that does not match is tissue"
   ]
  },
  {
   "cell_type": "code",
   "execution_count": 21,
   "id": "c18bf582",
   "metadata": {},
   "outputs": [
    {
     "data": {
      "text/plain": [
       "[('forearm', 0.48294652)]"
      ]
     },
     "execution_count": 21,
     "metadata": {},
     "output_type": "execute_result"
    }
   ],
   "source": [
    "vectors.most_similar(positive = ['throw','leg'], negative = ['jump'], topn = 1) #the forearm is the word that suits the rule"
   ]
  },
  {
   "cell_type": "code",
   "execution_count": null,
   "id": "f854f2cd",
   "metadata": {},
   "outputs": [],
   "source": []
  }
 ],
 "metadata": {
  "kernelspec": {
   "display_name": "Python 3 (ipykernel)",
   "language": "python",
   "name": "python3"
  },
  "language_info": {
   "codemirror_mode": {
    "name": "ipython",
    "version": 3
   },
   "file_extension": ".py",
   "mimetype": "text/x-python",
   "name": "python",
   "nbconvert_exporter": "python",
   "pygments_lexer": "ipython3",
   "version": "3.9.7"
  }
 },
 "nbformat": 4,
 "nbformat_minor": 5
}
